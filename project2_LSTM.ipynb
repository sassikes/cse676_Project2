{
 "cells": [
  {
   "cell_type": "code",
   "execution_count": 1,
   "metadata": {},
   "outputs": [],
   "source": [
    "import pandas as pd\n",
    "import numpy as np\n",
    "import re\n",
    "import string\n",
    "import contractions\n",
    "import nltk\n",
    "from nltk.corpus import stopwords\n",
    "from sklearn.model_selection import train_test_split\n",
    "from tensorflow.keras.preprocessing.text import Tokenizer \n",
    "from tensorflow.keras.preprocessing.sequence import pad_sequences\n",
    "from tensorflow.keras.layers import Input,LSTM,Embedding,Dense,Concatenate,TimeDistributed,Bidirectional,Attention\n",
    "from tensorflow.keras.models import Model\n",
    "from tensorflow.keras.callbacks import EarlyStopping\n",
    "from Attention import AttentionLayer"
   ]
  },
  {
   "cell_type": "code",
   "execution_count": 2,
   "metadata": {},
   "outputs": [],
   "source": [
    "dataset=pd.read_csv(\"./Reviews.csv\",nrows=100000)\n",
    "dataset=dataset.drop([\"Id\",\"ProductId\",\"UserId\",\"ProfileName\",\"HelpfulnessNumerator\",\"HelpfulnessDenominator\",\"Score\",\"Time\"],axis=1)\n",
    "dataset=dataset.dropna(axis=0)"
   ]
  },
  {
   "cell_type": "code",
   "execution_count": 3,
   "metadata": {},
   "outputs": [
    {
     "data": {
      "text/html": [
       "<div>\n",
       "<style scoped>\n",
       "    .dataframe tbody tr th:only-of-type {\n",
       "        vertical-align: middle;\n",
       "    }\n",
       "\n",
       "    .dataframe tbody tr th {\n",
       "        vertical-align: top;\n",
       "    }\n",
       "\n",
       "    .dataframe thead th {\n",
       "        text-align: right;\n",
       "    }\n",
       "</style>\n",
       "<table border=\"1\" class=\"dataframe\">\n",
       "  <thead>\n",
       "    <tr style=\"text-align: right;\">\n",
       "      <th></th>\n",
       "      <th>Summary</th>\n",
       "      <th>Text</th>\n",
       "    </tr>\n",
       "  </thead>\n",
       "  <tbody>\n",
       "    <tr>\n",
       "      <th>0</th>\n",
       "      <td>Good Quality Dog Food</td>\n",
       "      <td>I have bought several of the Vitality canned d...</td>\n",
       "    </tr>\n",
       "    <tr>\n",
       "      <th>1</th>\n",
       "      <td>Not as Advertised</td>\n",
       "      <td>Product arrived labeled as Jumbo Salted Peanut...</td>\n",
       "    </tr>\n",
       "    <tr>\n",
       "      <th>2</th>\n",
       "      <td>\"Delight\" says it all</td>\n",
       "      <td>This is a confection that has been around a fe...</td>\n",
       "    </tr>\n",
       "    <tr>\n",
       "      <th>3</th>\n",
       "      <td>Cough Medicine</td>\n",
       "      <td>If you are looking for the secret ingredient i...</td>\n",
       "    </tr>\n",
       "    <tr>\n",
       "      <th>4</th>\n",
       "      <td>Great taffy</td>\n",
       "      <td>Great taffy at a great price.  There was a wid...</td>\n",
       "    </tr>\n",
       "    <tr>\n",
       "      <th>5</th>\n",
       "      <td>Nice Taffy</td>\n",
       "      <td>I got a wild hair for taffy and ordered this f...</td>\n",
       "    </tr>\n",
       "    <tr>\n",
       "      <th>6</th>\n",
       "      <td>Great!  Just as good as the expensive brands!</td>\n",
       "      <td>This saltwater taffy had great flavors and was...</td>\n",
       "    </tr>\n",
       "    <tr>\n",
       "      <th>7</th>\n",
       "      <td>Wonderful, tasty taffy</td>\n",
       "      <td>This taffy is so good.  It is very soft and ch...</td>\n",
       "    </tr>\n",
       "    <tr>\n",
       "      <th>8</th>\n",
       "      <td>Yay Barley</td>\n",
       "      <td>Right now I'm mostly just sprouting this so my...</td>\n",
       "    </tr>\n",
       "    <tr>\n",
       "      <th>9</th>\n",
       "      <td>Healthy Dog Food</td>\n",
       "      <td>This is a very healthy dog food. Good for thei...</td>\n",
       "    </tr>\n",
       "  </tbody>\n",
       "</table>\n",
       "</div>"
      ],
      "text/plain": [
       "                                         Summary  \\\n",
       "0                          Good Quality Dog Food   \n",
       "1                              Not as Advertised   \n",
       "2                          \"Delight\" says it all   \n",
       "3                                 Cough Medicine   \n",
       "4                                    Great taffy   \n",
       "5                                     Nice Taffy   \n",
       "6  Great!  Just as good as the expensive brands!   \n",
       "7                         Wonderful, tasty taffy   \n",
       "8                                     Yay Barley   \n",
       "9                               Healthy Dog Food   \n",
       "\n",
       "                                                Text  \n",
       "0  I have bought several of the Vitality canned d...  \n",
       "1  Product arrived labeled as Jumbo Salted Peanut...  \n",
       "2  This is a confection that has been around a fe...  \n",
       "3  If you are looking for the secret ingredient i...  \n",
       "4  Great taffy at a great price.  There was a wid...  \n",
       "5  I got a wild hair for taffy and ordered this f...  \n",
       "6  This saltwater taffy had great flavors and was...  \n",
       "7  This taffy is so good.  It is very soft and ch...  \n",
       "8  Right now I'm mostly just sprouting this so my...  \n",
       "9  This is a very healthy dog food. Good for thei...  "
      ]
     },
     "execution_count": 3,
     "metadata": {},
     "output_type": "execute_result"
    }
   ],
   "source": [
    "dataset.head(10)"
   ]
  },
  {
   "cell_type": "code",
   "execution_count": 4,
   "metadata": {},
   "outputs": [],
   "source": [
    "def preprocess_text(dataset):\n",
    "    cleaned_text=[]\n",
    "    for data in dataset:\n",
    "        cleaned_data = data.lower()\n",
    "        #remove htmltags\n",
    "        html_tag = re.compile('<.*?>')\n",
    "        cleaned_data= re.sub(html_tag,' ',cleaned_data)  \n",
    "        cleaned_data=cleaned_data.strip()   \n",
    "        #remove paranthsis data\n",
    "        cleaned_data = re.sub(r'\\([^)]*\\)',' ', cleaned_data)\n",
    "        cleaned_data = re.sub('\"','',cleaned_data)\n",
    "        #expand contractions\n",
    "        cleaned_data=contractions.fix(cleaned_data)\n",
    "        #remove punctuations\n",
    "        cleaned_data = re.sub(r\"'s\\b\",\" \",cleaned_data)\n",
    "        cleaned_data = cleaned_data.translate(str.maketrans(' ', ' ', string.punctuation))\n",
    "        cleaned_text.append(cleaned_data)\n",
    "    return cleaned_text"
   ]
  },
  {
   "cell_type": "code",
   "execution_count": 6,
   "metadata": {},
   "outputs": [
    {
     "data": {
      "text/plain": [
       "['bought several vitality canned dog food products found good quality product looks like stew processed meat smells better labrador finicky appreciates product better',\n",
       " 'product arrived labeled jumbo salted peanutsthe peanuts actually small sized unsalted sure error vendor intended represent product jumbo',\n",
       " 'confection around centuries light pillowy citrus gelatin nuts case filberts cut tiny squares liberally coated powdered sugar tiny mouthful heaven chewy flavorful highly recommend yummy treat familiar story lewis lion witch wardrobe treat seduces edmund selling brother sisters witch',\n",
       " 'looking secret ingredient robitussin believe found got addition root beer extract ordered made cherry soda flavor medicinal',\n",
       " 'great taffy great price wide assortment yummy taffy delivery quick taffy lover deal',\n",
       " 'got wild hair taffy ordered five pound bag taffy enjoyable many flavors watermelon root beer melon peppermint grape etc complaint bit much redblack licoriceflavored pieces kids husband lasted two weeks would recommend brand taffy delightful treat',\n",
       " 'saltwater taffy great flavors soft chewy candy individually wrapped well none candies stuck together happen expensive version fralinger would highly recommend candy served beachthemed party everyone loved',\n",
       " 'taffy good soft chewy flavors amazing would definitely recommend buying satisfying',\n",
       " 'right mostly sprouting cats eat grass love rotate around wheatgrass rye',\n",
       " 'healthy dog food good digestion also good small puppies dog eats required amount every feeding']"
      ]
     },
     "execution_count": 6,
     "metadata": {},
     "output_type": "execute_result"
    }
   ],
   "source": [
    "cleaned_reviews=[]\n",
    "stop_words = set(stopwords.words('english')) \n",
    "cleaned_text_data=preprocess_text(dataset[\"Text\"])\n",
    "for text in cleaned_text_data:\n",
    "    filtered_sentence = [w for w in text.split() if not w in stop_words] \n",
    "    long_words=[]\n",
    "    for i in filtered_sentence:\n",
    "        if len(i)>=3:\n",
    "            long_words.append(i)   \n",
    "    cleaned_reviews.append(\" \".join(long_words))\n",
    "cleaned_reviews[:10]"
   ]
  },
  {
   "cell_type": "code",
   "execution_count": 7,
   "metadata": {},
   "outputs": [
    {
     "data": {
      "text/plain": [
       "['good quality dog food',\n",
       " 'not as advertised',\n",
       " 'delight says it all',\n",
       " 'cough medicine',\n",
       " 'great taffy',\n",
       " 'nice taffy',\n",
       " 'great  just as good as the expensive brands',\n",
       " 'wonderful tasty taffy',\n",
       " 'yay barley',\n",
       " 'healthy dog food']"
      ]
     },
     "execution_count": 7,
     "metadata": {},
     "output_type": "execute_result"
    }
   ],
   "source": [
    "cleaned_Summary_data=preprocess_text(dataset[\"Summary\"])\n",
    "cleaned_Summary_data[:10]"
   ]
  },
  {
   "cell_type": "code",
   "execution_count": 10,
   "metadata": {},
   "outputs": [],
   "source": [
    "summary_tag=[]\n",
    "for summary in cleaned_Summary_data:\n",
    "    summary=\"<START> \"+summary+\" <END>\"\n",
    "    summary_tag.append(summary)\n",
    "dataset[\"Text\"]=cleaned_reviews\n",
    "dataset[\"Summary\"]=summary_tag"
   ]
  },
  {
   "cell_type": "code",
   "execution_count": 11,
   "metadata": {},
   "outputs": [
    {
     "name": "stdout",
     "output_type": "stream",
     "text": [
      "<class 'pandas.core.frame.DataFrame'>\n",
      "Int64Index: 99998 entries, 0 to 99999\n",
      "Data columns (total 2 columns):\n",
      "Summary    99998 non-null object\n",
      "Text       99998 non-null object\n",
      "dtypes: object(2)\n",
      "memory usage: 2.3+ MB\n"
     ]
    }
   ],
   "source": [
    "text_maximum_length=100\n",
    "summary_maximum_length=10\n",
    "dataset.info()"
   ]
  },
  {
   "cell_type": "code",
   "execution_count": 14,
   "metadata": {},
   "outputs": [],
   "source": [
    "train_text,test_text,train_summary,test_summary=train_test_split(cleaned_reviews,summary_tag,test_size=0.3)"
   ]
  },
  {
   "cell_type": "code",
   "execution_count": 15,
   "metadata": {},
   "outputs": [],
   "source": [
    "review_tokenizer = Tokenizer()\n",
    "review_tokenizer.fit_on_texts(list(train_text))"
   ]
  },
  {
   "cell_type": "code",
   "execution_count": 16,
   "metadata": {},
   "outputs": [
    {
     "data": {
      "text/plain": [
       "'loved gummy bout green one tasty delicious would buy thanks'"
      ]
     },
     "execution_count": 16,
     "metadata": {},
     "output_type": "execute_result"
    }
   ],
   "source": [
    "train_text[1]"
   ]
  },
  {
   "cell_type": "code",
   "execution_count": 17,
   "metadata": {},
   "outputs": [
    {
     "data": {
      "text/plain": [
       "'tried hour energy long night year old stay next day hour sleep definitely woke kept awake duration day least body picked back crash afterwards stomach full like energy drinks agree others taste terrible taste great taste would recommend product anyone needs pickmeup keep day going smooth received free sample 5hour energy® fromsmiley360'"
      ]
     },
     "execution_count": 17,
     "metadata": {},
     "output_type": "execute_result"
    }
   ],
   "source": [
    "test_text[1]"
   ]
  },
  {
   "cell_type": "code",
   "execution_count": 18,
   "metadata": {},
   "outputs": [
    {
     "name": "stdout",
     "output_type": "stream",
     "text": [
      "_START_ very good _END_\n"
     ]
    }
   ],
   "source": [
    "print(train_summary[1])"
   ]
  },
  {
   "cell_type": "code",
   "execution_count": 19,
   "metadata": {},
   "outputs": [
    {
     "data": {
      "text/plain": [
       "'_START_ wakes me up _END_'"
      ]
     },
     "execution_count": 19,
     "metadata": {},
     "output_type": "execute_result"
    }
   ],
   "source": [
    "test_summary[1]"
   ]
  },
  {
   "cell_type": "code",
   "execution_count": 20,
   "metadata": {},
   "outputs": [],
   "source": [
    "train_text=review_tokenizer.texts_to_sequences(train_text) \n",
    "train_text=pad_sequences(train_text,maxlen=text_maximum_length,padding='post') \n",
    "test_text=review_tokenizer.texts_to_sequences(test_text)\n",
    "test_text=pad_sequences(test_text,maxlen=text_maximum_length,padding='post')"
   ]
  },
  {
   "cell_type": "code",
   "execution_count": 22,
   "metadata": {},
   "outputs": [
    {
     "data": {
      "text/plain": [
       "73961"
      ]
     },
     "execution_count": 22,
     "metadata": {},
     "output_type": "execute_result"
    }
   ],
   "source": [
    "review_vocab_size=len(review_tokenizer.word_index) +1\n",
    "review_vocab_size"
   ]
  },
  {
   "cell_type": "code",
   "execution_count": 23,
   "metadata": {},
   "outputs": [
    {
     "data": {
      "text/plain": [
       "16482"
      ]
     },
     "execution_count": 23,
     "metadata": {},
     "output_type": "execute_result"
    }
   ],
   "source": [
    "summary_tokenizer = Tokenizer()\n",
    "summary_tokenizer.fit_on_texts(list(train_summary))\n",
    "train_summary=summary_tokenizer.texts_to_sequences(train_summary) \n",
    "train_summary=pad_sequences(train_summary,maxlen=summary_maximum_length,padding='post')\n",
    "test_summary=summary_tokenizer.texts_to_sequences(test_summary)\n",
    "test_summary=pad_sequences(test_summary,maxlen=summary_maximum_length,padding='post')\n",
    "summary_vocab_size=len(summary_tokenizer.word_index) +1\n",
    "latent_dim=500\n",
    "summary_vocab_size"
   ]
  },
  {
   "cell_type": "code",
   "execution_count": 25,
   "metadata": {},
   "outputs": [
    {
     "name": "stdout",
     "output_type": "stream",
     "text": [
      "Model: \"model\"\n",
      "__________________________________________________________________________________________________\n",
      "Layer (type)                    Output Shape         Param #     Connected to                     \n",
      "==================================================================================================\n",
      "input_1 (InputLayer)            [(None, 100)]        0                                            \n",
      "__________________________________________________________________________________________________\n",
      "embedding (Embedding)           (None, 100, 500)     36980500    input_1[0][0]                    \n",
      "__________________________________________________________________________________________________\n",
      "lstm (LSTM)                     [(None, 100, 500), ( 2002000     embedding[0][0]                  \n",
      "__________________________________________________________________________________________________\n",
      "input_2 (InputLayer)            [(None, None)]       0                                            \n",
      "__________________________________________________________________________________________________\n",
      "lstm_1 (LSTM)                   [(None, 100, 500), ( 2002000     lstm[0][0]                       \n",
      "__________________________________________________________________________________________________\n",
      "embedding_1 (Embedding)         (None, None, 500)    8241000     input_2[0][0]                    \n",
      "__________________________________________________________________________________________________\n",
      "lstm_2 (LSTM)                   [(None, 100, 500), ( 2002000     lstm_1[0][0]                     \n",
      "__________________________________________________________________________________________________\n",
      "lstm_3 (LSTM)                   [(None, None, 500),  2002000     embedding_1[0][0]                \n",
      "                                                                 lstm_2[0][1]                     \n",
      "                                                                 lstm_2[0][2]                     \n",
      "__________________________________________________________________________________________________\n",
      "attention_layer (AttentionLayer ((None, None, 500),  500500      lstm_2[0][0]                     \n",
      "                                                                 lstm_3[0][0]                     \n",
      "__________________________________________________________________________________________________\n",
      "concat_layer (Concatenate)      (None, None, 1000)   0           lstm_3[0][0]                     \n",
      "                                                                 attention_layer[0][0]            \n",
      "__________________________________________________________________________________________________\n",
      "time_distributed (TimeDistribut (None, None, 16482)  16498482    concat_layer[0][0]               \n",
      "==================================================================================================\n",
      "Total params: 70,228,482\n",
      "Trainable params: 70,228,482\n",
      "Non-trainable params: 0\n",
      "__________________________________________________________________________________________________\n"
     ]
    }
   ],
   "source": [
    "review_inputs=Input(shape=(text_maximum_length,)) \n",
    "input_embedding=Embedding(review_vocab_size,latent_dim,trainable=True)(review_inputs) \n",
    "lstm1=LSTM(latent_dim,return_sequences=True,return_state=True)\n",
    "enc_out1,h1,c1=lstm1(input_embedding)\n",
    "lstm2=LSTM(latent_dim,return_sequences=True,return_state=True)\n",
    "enc_out2,h2,c2=lstm2(enc_out1)\n",
    "lstm3=LSTM(latent_dim,return_sequences=True,return_state=True)\n",
    "enc_out3,h3,c3=lstm3(enc_out2)\n",
    "\n",
    "dec_input=Input(shape=(None,))\n",
    "dec_embedding_lyr=Embedding(summary_vocab_size, latent_dim,trainable=True)\n",
    "dec_embedding=dec_embedding_lyr(dec_input)\n",
    "dec_lstm1=LSTM(latent_dim,return_sequences=True,return_state=True)\n",
    "dec_out,_,_=dec_lstm1(dec_embedding,initial_state=[h3,c3]) \n",
    "attention_layer=AttentionLayer()\n",
    "attn_out,_= attention_layer([enc_out3, dec_out])\n",
    "\n",
    "decoder_concat_input=Concatenate()([dec_out,attn_out])\n",
    "dense=TimeDistributed(Dense(summary_vocab_size, activation='softmax'))\n",
    "dec_output=dense(decoder_concat_input) \n",
    "model=Model([review_inputs,dec_input],dec_output) \n",
    "model.summary()"
   ]
  },
  {
   "cell_type": "code",
   "execution_count": 26,
   "metadata": {},
   "outputs": [],
   "source": [
    "model.compile(optimizer='Adam', loss='sparse_categorical_crossentropy')\n",
    "es = EarlyStopping(monitor='val_loss', mode='min', verbose=1)"
   ]
  },
  {
   "cell_type": "code",
   "execution_count": 27,
   "metadata": {},
   "outputs": [
    {
     "name": "stdout",
     "output_type": "stream",
     "text": [
      "Train on 89998 samples, validate on 10000 samples\n",
      "Epoch 1/50\n",
      "89998/89998 [==============================] - 625s 7ms/sample - loss: 2.8775 - val_loss: 2.5702\n",
      "Epoch 2/50\n",
      "89998/89998 [==============================] - 620s 7ms/sample - loss: 2.4593 - val_loss: 2.3414\n",
      "Epoch 3/50\n",
      "89998/89998 [==============================] - 621s 7ms/sample - loss: 2.2904 - val_loss: 2.2621\n",
      "Epoch 4/50\n",
      "89998/89998 [==============================] - 621s 7ms/sample - loss: 2.1642 - val_loss: 2.1816\n",
      "Epoch 5/50\n",
      "89998/89998 [==============================] - 620s 7ms/sample - loss: 2.0551 - val_loss: 2.1564\n",
      "Epoch 6/50\n",
      "89998/89998 [==============================] - 621s 7ms/sample - loss: 1.9507 - val_loss: 2.1302\n",
      "Epoch 7/50\n",
      "89998/89998 [==============================] - 625s 7ms/sample - loss: 1.8482 - val_loss: 2.1408\n",
      "Epoch 00007: early stopping\n"
     ]
    }
   ],
   "source": [
    "history=model.fit([train_text,train_summary[:,:-1]], train_summary.reshape(train_summary.shape[0],train_summary.shape[1], 1)[:,1:] ,epochs=50,callbacks=[es],batch_size=128, validation_data=([test_text,test_summary[:,:-1]], test_summary.reshape(test_summary.shape[0],test_summary.shape[1], 1)[:,1:]))"
   ]
  },
  {
   "cell_type": "code",
   "execution_count": 28,
   "metadata": {},
   "outputs": [
    {
     "data": {
      "image/png": "[encoded data removed]",
      "text/plain": [
       "<Figure size 432x288 with 1 Axes>"
      ]
     },
     "metadata": {
      "needs_background": "light"
     },
     "output_type": "display_data"
    }
   ],
   "source": [
    "from matplotlib import pyplot \n",
    "pyplot.plot(history.history['loss'], label='train') \n",
    "pyplot.plot(history.history['val_loss'], label='test') \n",
    "pyplot.legend() \n",
    "pyplot.show()"
   ]
  },
  {
   "cell_type": "code",
   "execution_count": 85,
   "metadata": {},
   "outputs": [],
   "source": [
    "model.save(\"model_epoch1.h5\")"
   ]
  },
  {
   "cell_type": "code",
   "execution_count": 32,
   "metadata": {},
   "outputs": [],
   "source": [
    "encoder_model = Model(inputs=review_inputs,outputs=[enc_out3, h3, c3])\n",
    "\n",
    "dec_in_h = Input(shape=(latent_dim,))\n",
    "dec_in_c = Input(shape=(latent_dim,))\n",
    "dec_hidden_in = Input(shape=(text_maximum_length,latent_dim))\n",
    "\n",
    "dec_emb2= dec_embedding_lyr(dec_input)\n",
    "\n",
    "dec_out2,h,c = dec_lstm1(dec_emb2, initial_state=[dec_in_h, dec_in_c])\n",
    "\n",
    "attn_out_inf, _ = attention_layer([dec_hidden_in, dec_out2])\n",
    "\n",
    "decoder_inf_concat = Concatenate()([dec_out2, attn_out_inf])\n",
    "decoder_outputs2 = dense(decoder_inf_concat)\n",
    "decoder_model = Model([dec_input] + [dec_hidden_in,dec_in_h, dec_in_c],[dec_out2] + [h,c])"
   ]
  },
  {
   "cell_type": "code",
   "execution_count": 30,
   "metadata": {},
   "outputs": [],
   "source": [
    "reverse_target_word=summary_tokenizer.index_word \n",
    "reverse_source_word=review_tokenizer.index_word \n",
    "target_word=summary_tokenizer.word_index\n",
    "source_word=review_tokenizer.word_index"
   ]
  },
  {
   "cell_type": "code",
   "execution_count": 88,
   "metadata": {},
   "outputs": [],
   "source": [
    "encoder_model.save(\"LSTM_encoder.h5\")\n",
    "decoder_model.save(\"LSTM_decoder.h5\")"
   ]
  },
  {
   "cell_type": "code",
   "execution_count": 65,
   "metadata": {},
   "outputs": [],
   "source": [
    "ground_truth_review=[]\n",
    "ground_truth_summery=[]\n",
    "predicted_summary=[]\n",
    "for n in range(len(test_text)):\n",
    "    givenReview=''\n",
    "    for review_token in test_text[n]:\n",
    "        if(review_token!=target_word['start'] and review!=target_word_index['end']):\n",
    "            givenReview=givenReview+reverse_source_word[review_token]+' '\n",
    "    ground_truth_review.append(givenReview)\n",
    "    givenSummary=''\n",
    "    for summary_token in test_summary[n]:\n",
    "        if(summary_token!=target_word['start'] and summary_token!=target_word['end']):\n",
    "            givenSummary=givenSummary+reverse_target_word[summary_token]+' '\n",
    "    ground_truth_summery.append(givenSummary)        \n",
    "    e_out, e_h, e_c = encoder_model.predict(test_text[n].reshape(1,100))\n",
    "    target_seq = np.zeros((1,1))\n",
    "    target_seq[0][0] = target_word['start']\n",
    "    decoded_sentence = ''\n",
    "    while True:\n",
    "        output_tokens, h, c = decoder_model.predict([target_seq] + [e_out, e_h, e_c])\n",
    "        sampled_token_index = np.argmax(output_tokens[0, -1, :])\n",
    "        sampled_token = reverse_target_word_index[sampled_token_index]\n",
    "        if(sampled_token!='end'):\n",
    "            decoded_sentence += ' '+sampled_token\n",
    "        if (sampled_token == 'end' or len(decoded_sentence.split()) >= (summary_maximum_length-1)):\n",
    "            break\n",
    "        target_seq = np.zeros((1,1))\n",
    "        target_seq[0, 0] = sampled_token_index\n",
    "        e_h, e_c = h, c\n",
    "    predicted_summary.append(decoded_sentence)"
   ]
  },
  {
   "cell_type": "code",
   "execution_count": 67,
   "metadata": {},
   "outputs": [
    {
     "name": "stdout",
     "output_type": "stream",
     "text": [
      "\n",
      "\n",
      "Review: rarely eat anything whole wheat pasta every eat treat almost pastas ate italy make sure cook \n",
      "Actual Summary: reminds me of italy \n",
      "Predicted Summary: gluten free pasta\n",
      "\n",
      "\n",
      "Review: tried hour energy long night year old stay next day hour sleep definitely woke kept awake duration day least body picked back crash afterwards stomach full energy drinks agree others taste terrible taste great taste would recommend product anyone needs pickmeup keep day going smooth received free sample 5hour energy® \n",
      "Actual Summary: wakes me up \n",
      "Predicted Summary: great energy drink\n",
      "\n",
      "\n",
      "Review: tried several one right amount sea salt added distract chocolate adds flavor favorite many strong favorites dark chocolate bars one seems one get combination right \n",
      "Actual Summary: best almonds and sea salt chocolate bar \n",
      "Predicted Summary: love these\n",
      "\n",
      "\n",
      "Review: greenies muched loved tatsy treat two small dogs chews last long time \n",
      "Actual Summary: excellent teeth cleaner \n",
      "Predicted Summary: my dogs love greenies\n",
      "\n",
      "\n",
      "Review: love noodles really great midnight snack really something fill dinner eat dinner hungry later maybe people would stick ribs love though amazon really price \n",
      "Actual Summary: great and good price \n",
      "Predicted Summary: great snack\n",
      "\n",
      "\n",
      "Review: enjoyable times day right amount salt flavor becoming favorite house also take work satisfy afternoon craving \n",
      "Actual Summary: all day long \n",
      "Predicted Summary: love them\n",
      "\n",
      "\n",
      "Review: several brands beef sticks picky eater surprised pretty big discrepancy product reviewed tasted tasted beef heart beef skin provided resistance mushy inside maybe batch higher proportion normal got hot flavor mask weirdness taste reason two stars instead one brought camping little short food short sticks provided sustenance even little bit taste diarrhea stomach problems unlike people receive samples buffalo bills input regards stuff tastes \n",
      "Actual Summary: mostly tastes of beef heart \n",
      "Predicted Summary: not a fan of this stuff\n",
      "\n",
      "\n",
      "Review: recommend instead price swiss miss hot cocoa mix milk chocolate 16count envelopes thing falls short found adding milk nondairy creamers cup make taste somewhat creamy less tastes horrible otherwise hated decided make cup hot milk decided pour hot cup milk tastes much better opinion need powdered milk nondairy creamer would improve product greatly thieves nonetheless usually get envelopes hot cocoa tastes better supermarket less five bucks buy two less ten still spending less spent really thought buying quality definitely unless use milk cheating spending extra money drank common hot cocoa supermarket straight water tasted way better avoid \n",
      "Actual Summary: it is ok but certainly not worth the cost \n",
      "Predicted Summary: tastes great but not hot\n",
      "\n",
      "\n",
      "Review: find side dish grocery stores anymore beef noodles lipton best pasta side \n",
      "Actual Summary: thanks for the availability \n",
      "Predicted Summary: good product\n",
      "\n",
      "\n",
      "Review: add beans simmer hours add seasoning pack minutes done flavor spicy bland either taste salty sodiumrestricted diet note sodium count pretty high however would call hearty ounces beans add cups water getting pretty thin soup easily dress bit use soup base add things rice pasta diced potatoes diced ham shredded chicken greens fresh frozen vegetables course toss whatever hanging around fridge pantry dash two hot sauce often hits spot well making water stock also helps put bit hearty pot use starter dress well worth getting especially get one sharply discounted sale prices tastes way watery considered hearty soup \n",
      "Actual Summary: to put in some work to make it hearty \n",
      "Predicted Summary: good for a quick meal\n"
     ]
    }
   ],
   "source": [
    "for i in range(10):\n",
    "    print(\"\\n\")\n",
    "    print(\"Review: {}\".format(ground_truth_review[i]))\n",
    "    print(\"Actual Summary: {}\".format(ground_truth_summery[i]))\n",
    "    print(\"Predicted Summary:{}\".format(predicted_summary[i]))\n",
    "    "
   ]
  },
  {
   "cell_type": "code",
   "execution_count": 83,
   "metadata": {},
   "outputs": [
    {
     "name": "stderr",
     "output_type": "stream",
     "text": [
      "/home/rocket/anaconda3/envs/tf2/lib/python3.6/site-packages/nltk/translate/bleu_score.py:523: UserWarning: \n",
      "The hypothesis contains 0 counts of 2-gram overlaps.\n",
      "Therefore the BLEU score evaluates to 0, independently of\n",
      "how many N-gram overlaps of lower order it contains.\n",
      "Consider using lower n-gram order or use SmoothingFunction()\n",
      "  warnings.warn(_msg)\n",
      "/home/rocket/anaconda3/envs/tf2/lib/python3.6/site-packages/nltk/translate/bleu_score.py:523: UserWarning: \n",
      "The hypothesis contains 0 counts of 3-gram overlaps.\n",
      "Therefore the BLEU score evaluates to 0, independently of\n",
      "how many N-gram overlaps of lower order it contains.\n",
      "Consider using lower n-gram order or use SmoothingFunction()\n",
      "  warnings.warn(_msg)\n",
      "/home/rocket/anaconda3/envs/tf2/lib/python3.6/site-packages/nltk/translate/bleu_score.py:523: UserWarning: \n",
      "The hypothesis contains 0 counts of 4-gram overlaps.\n",
      "Therefore the BLEU score evaluates to 0, independently of\n",
      "how many N-gram overlaps of lower order it contains.\n",
      "Consider using lower n-gram order or use SmoothingFunction()\n",
      "  warnings.warn(_msg)\n"
     ]
    },
    {
     "data": {
      "text/plain": [
       "0.009042240052916609"
      ]
     },
     "execution_count": 83,
     "metadata": {},
     "output_type": "execute_result"
    }
   ],
   "source": [
    "from nltk.translate.bleu_score import sentence_bleu\n",
    "from statistics import mean \n",
    "score=[]\n",
    "for i in range(100):\n",
    "    reference=list(ground_truth_summery[i].split())\n",
    "    candidate=list(predicted_summary[i].split())\n",
    "    score.append(sentence_bleu(reference,candidate,weights=(1,0,0,0)))\n",
    "\n",
    "mean(score)"
   ]
  },
  {
   "cell_type": "code",
   "execution_count": 84,
   "metadata": {
    "scrolled": true
   },
   "outputs": [
    {
     "name": "stdout",
     "output_type": "stream",
     "text": [
      "{'ROUGE-1': 0.0, 'ROUGE-SU4': 0.0}\n",
      "{'ROUGE-1': 0.0, 'ROUGE-SU4': 0.0}\n",
      "{'ROUGE-1': 0.0, 'ROUGE-SU4': 0.0}\n",
      "{'ROUGE-1': 0.0, 'ROUGE-SU4': 0.0}\n",
      "{'ROUGE-1': 0.0, 'ROUGE-SU4': 0.0}\n",
      "{'ROUGE-1': 0.0, 'ROUGE-SU4': 0.0}\n",
      "{'ROUGE-1': 0.0, 'ROUGE-SU4': 0.0}\n",
      "{'ROUGE-1': 0.0, 'ROUGE-SU4': 0.0}\n",
      "{'ROUGE-1': 0.0, 'ROUGE-SU4': 0.0}\n",
      "{'ROUGE-1': 0.0, 'ROUGE-SU4': 0.0}\n",
      "{'ROUGE-1': 0.0, 'ROUGE-SU4': 0.0}\n",
      "{'ROUGE-1': 0.0, 'ROUGE-SU4': 0.0}\n",
      "{'ROUGE-1': 0.0, 'ROUGE-SU4': 0.0}\n",
      "{'ROUGE-1': 0.0, 'ROUGE-SU4': 0.0}\n",
      "{'ROUGE-1': 0.0, 'ROUGE-SU4': 0.0}\n",
      "{'ROUGE-1': 0.0, 'ROUGE-SU4': 0.0}\n",
      "{'ROUGE-1': 0.0, 'ROUGE-SU4': 0.0}\n",
      "{'ROUGE-1': 0.0, 'ROUGE-SU4': 0.0}\n",
      "{'ROUGE-1': 0.0, 'ROUGE-SU4': 0.0}\n",
      "{'ROUGE-1': 0.0, 'ROUGE-SU4': 0.0}\n",
      "{'ROUGE-1': 0.0, 'ROUGE-SU4': 0.0}\n",
      "{'ROUGE-1': 0.0, 'ROUGE-SU4': 0.0}\n",
      "{'ROUGE-1': 0.0, 'ROUGE-SU4': 0.0}\n",
      "{'ROUGE-1': 0.0, 'ROUGE-SU4': 0.0}\n",
      "{'ROUGE-1': 0.0, 'ROUGE-SU4': 0.0}\n",
      "{'ROUGE-1': 0.0, 'ROUGE-SU4': 0.0}\n",
      "{'ROUGE-1': 0.0, 'ROUGE-SU4': 0.0}\n",
      "{'ROUGE-1': 0.0, 'ROUGE-SU4': 0.0}\n",
      "{'ROUGE-1': 0.0, 'ROUGE-SU4': 0.0}\n",
      "{'ROUGE-1': 0.0, 'ROUGE-SU4': 0.0}\n",
      "{'ROUGE-1': 0.0, 'ROUGE-SU4': 0.0}\n",
      "{'ROUGE-1': 0.0, 'ROUGE-SU4': 0.0}\n",
      "{'ROUGE-1': 0.0, 'ROUGE-SU4': 0.0}\n",
      "{'ROUGE-1': 0.0, 'ROUGE-SU4': 0.0}\n",
      "{'ROUGE-1': 0.0, 'ROUGE-SU4': 0.0}\n",
      "{'ROUGE-1': 0.0, 'ROUGE-SU4': 0.0}\n",
      "{'ROUGE-1': 0.0, 'ROUGE-SU4': 0.0}\n",
      "{'ROUGE-1': 0.0, 'ROUGE-SU4': 0.0}\n",
      "{'ROUGE-1': 0.0, 'ROUGE-SU4': 0.0}\n",
      "{'ROUGE-1': 0.0, 'ROUGE-SU4': 0.0}\n",
      "{'ROUGE-1': 0.0, 'ROUGE-SU4': 0.0}\n",
      "{'ROUGE-1': 0.0, 'ROUGE-SU4': 0.0}\n",
      "{'ROUGE-1': 0.0, 'ROUGE-SU4': 0.0}\n",
      "{'ROUGE-1': 0.0, 'ROUGE-SU4': 0.0}\n",
      "{'ROUGE-1': 0.0, 'ROUGE-SU4': 0.0}\n",
      "{'ROUGE-1': 0.0, 'ROUGE-SU4': 0.0}\n",
      "{'ROUGE-1': 0.0, 'ROUGE-SU4': 0.0}\n",
      "{'ROUGE-1': 0.0, 'ROUGE-SU4': 0.0}\n",
      "{'ROUGE-1': 0.0, 'ROUGE-SU4': 0.0}\n",
      "{'ROUGE-1': 0.0, 'ROUGE-SU4': 0.0}\n",
      "{'ROUGE-1': 0.0, 'ROUGE-SU4': 0.0}\n",
      "{'ROUGE-1': 0.0, 'ROUGE-SU4': 0.0}\n",
      "{'ROUGE-1': 0.0, 'ROUGE-SU4': 0.0}\n",
      "{'ROUGE-1': 0.0, 'ROUGE-SU4': 0.0}\n",
      "{'ROUGE-1': 0.0, 'ROUGE-SU4': 0.0}\n",
      "{'ROUGE-1': 0.0, 'ROUGE-SU4': 0.0}\n",
      "{'ROUGE-1': 0.0, 'ROUGE-SU4': 0.0}\n",
      "{'ROUGE-1': 0.0, 'ROUGE-SU4': 0.0}\n",
      "{'ROUGE-1': 0.0, 'ROUGE-SU4': 0.0}\n",
      "{'ROUGE-1': 0.0, 'ROUGE-SU4': 0.0}\n",
      "{'ROUGE-1': 0.0, 'ROUGE-SU4': 0.0}\n",
      "{'ROUGE-1': 0.0, 'ROUGE-SU4': 0.0}\n",
      "{'ROUGE-1': 0.0, 'ROUGE-SU4': 0.0}\n",
      "{'ROUGE-1': 0.0, 'ROUGE-SU4': 0.0}\n",
      "{'ROUGE-1': 0.0, 'ROUGE-SU4': 0.0}\n",
      "{'ROUGE-1': 0.0, 'ROUGE-SU4': 0.0}\n",
      "{'ROUGE-1': 0.0, 'ROUGE-SU4': 0.0}\n",
      "{'ROUGE-1': 0.0, 'ROUGE-SU4': 0.0}\n",
      "{'ROUGE-1': 0.0, 'ROUGE-SU4': 0.0}\n",
      "{'ROUGE-1': 0.0, 'ROUGE-SU4': 0.0}\n",
      "{'ROUGE-1': 0.0, 'ROUGE-SU4': 0.0}\n",
      "{'ROUGE-1': 0.0, 'ROUGE-SU4': 0.0}\n",
      "{'ROUGE-1': 0.0, 'ROUGE-SU4': 0.0}\n",
      "{'ROUGE-1': 0.0, 'ROUGE-SU4': 0.0}\n",
      "{'ROUGE-1': 0.0, 'ROUGE-SU4': 0.0}\n",
      "{'ROUGE-1': 0.0, 'ROUGE-SU4': 0.0}\n",
      "{'ROUGE-1': 0.0, 'ROUGE-SU4': 0.0}\n",
      "{'ROUGE-1': 0.0, 'ROUGE-SU4': 0.0}\n",
      "{'ROUGE-1': 0.0, 'ROUGE-SU4': 0.0}\n",
      "{'ROUGE-1': 0.0, 'ROUGE-SU4': 0.0}\n",
      "{'ROUGE-1': 0.0, 'ROUGE-SU4': 0.0}\n",
      "{'ROUGE-1': 0.0, 'ROUGE-SU4': 0.0}\n",
      "{'ROUGE-1': 0.0, 'ROUGE-SU4': 0.0}\n",
      "{'ROUGE-1': 0.0, 'ROUGE-SU4': 0.0}\n",
      "{'ROUGE-1': 0.0, 'ROUGE-SU4': 0.0}\n",
      "{'ROUGE-1': 0.0, 'ROUGE-SU4': 0.0}\n",
      "{'ROUGE-1': 0.0, 'ROUGE-SU4': 0.0}\n",
      "{'ROUGE-1': 0.0, 'ROUGE-SU4': 0.0}\n",
      "{'ROUGE-1': 0.0, 'ROUGE-SU4': 0.0}\n",
      "{'ROUGE-1': 0.0, 'ROUGE-SU4': 0.0}\n",
      "{'ROUGE-1': 0.0, 'ROUGE-SU4': 0.0}\n",
      "{'ROUGE-1': 0.0, 'ROUGE-SU4': 0.0}\n",
      "{'ROUGE-1': 0.0, 'ROUGE-SU4': 0.0}\n",
      "{'ROUGE-1': 0.0, 'ROUGE-SU4': 0.0}\n",
      "{'ROUGE-1': 0.0, 'ROUGE-SU4': 0.0}\n",
      "{'ROUGE-1': 0.0, 'ROUGE-SU4': 0.0}\n",
      "{'ROUGE-1': 0.0, 'ROUGE-SU4': 0.0}\n",
      "{'ROUGE-1': 0.0, 'ROUGE-SU4': 0.0}\n",
      "{'ROUGE-1': 0.0, 'ROUGE-SU4': 0.0}\n",
      "{'ROUGE-1': 0.0, 'ROUGE-SU4': 0.0}\n"
     ]
    }
   ],
   "source": [
    "from pythonrouge.pythonrouge import Pythonrouge\n",
    "for i in range(100):\n",
    "    reference=ground_truth_summery[i]\n",
    "    candidate=predicted_summary[i]\n",
    "    rouge = Pythonrouge(summary_file_exist=False,\n",
    "                    summary=candidate, reference=reference,\n",
    "                    n_gram=1, ROUGE_SU4=True, ROUGE_L=False,\n",
    "                    recall_only=True, stemming=True, stopwords=True,\n",
    "                    word_level=True, length_limit=True, length=50,\n",
    "                    use_cf=False, cf=95, scoring_formula='average',\n",
    "                    resampling=True, samples=1000, favor=True, p=0.5)\n",
    "    score = rouge.calc_score()\n",
    "    print(score)"
   ]
  },
  {
   "cell_type": "code",
   "execution_count": null,
   "metadata": {},
   "outputs": [],
   "source": []
  }
 ],
 "metadata": {
  "kernelspec": {
   "display_name": "Python 3",
   "language": "python",
   "name": "python3"
  },
  "language_info": {
   "codemirror_mode": {
    "name": "ipython",
    "version": 3
   },
   "file_extension": ".py",
   "mimetype": "text/x-python",
   "name": "python",
   "nbconvert_exporter": "python",
   "pygments_lexer": "ipython3",
   "version": "3.7.3"
  }
 },
 "nbformat": 4,
 "nbformat_minor": 4
}

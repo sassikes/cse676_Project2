{
 "cells": [
  {
   "cell_type": "code",
   "execution_count": 2,
   "metadata": {
    "colab": {
     "base_uri": "https://localhost:8080/",
     "height": 360
    },
    "colab_type": "code",
    "id": "e9h0s5f15lMq",
    "outputId": "8b7b211e-5e5b-4298-c2a1-d6a8e7046998"
   },
   "outputs": [
    {
     "name": "stdout",
     "output_type": "stream",
     "text": [
      "Collecting contractions\n",
      "  Downloading https://files.pythonhosted.org/packages/5a/6a/7bde208d21b4f7db1b666739dca8826d8fd7af34a14fddfda9b597ab8a45/contractions-0.0.23-py2.py3-none-any.whl\n",
      "Collecting textsearch\n",
      "  Downloading https://files.pythonhosted.org/packages/42/a8/03407021f9555043de5492a2bd7a35c56cc03c2510092b5ec018cae1bbf1/textsearch-0.0.17-py2.py3-none-any.whl\n",
      "Collecting pyahocorasick\n",
      "\u001b[?25l  Downloading https://files.pythonhosted.org/packages/f4/9f/f0d8e8850e12829eea2e778f1c90e3c53a9a799b7f412082a5d21cd19ae1/pyahocorasick-1.4.0.tar.gz (312kB)\n",
      "\u001b[K     |████████████████████████████████| 317kB 4.1MB/s \n",
      "\u001b[?25hCollecting Unidecode\n",
      "\u001b[?25l  Downloading https://files.pythonhosted.org/packages/d0/42/d9edfed04228bacea2d824904cae367ee9efd05e6cce7ceaaedd0b0ad964/Unidecode-1.1.1-py2.py3-none-any.whl (238kB)\n",
      "\u001b[K     |████████████████████████████████| 245kB 44.2MB/s \n",
      "\u001b[?25hBuilding wheels for collected packages: pyahocorasick\n",
      "  Building wheel for pyahocorasick (setup.py) ... \u001b[?25l\u001b[?25hdone\n",
      "  Created wheel for pyahocorasick: filename=pyahocorasick-1.4.0-cp36-cp36m-linux_x86_64.whl size=81705 sha256=2c1fa51d1fbef52d67ad10fa91b73e5eaaa46b32b8bee2a837e5d7510ea13678\n",
      "  Stored in directory: /root/.cache/pip/wheels/0a/90/61/87a55f5b459792fbb2b7ba6b31721b06ff5cf6bde541b40994\n",
      "Successfully built pyahocorasick\n",
      "Installing collected packages: pyahocorasick, Unidecode, textsearch, contractions\n",
      "Successfully installed Unidecode-1.1.1 contractions-0.0.23 pyahocorasick-1.4.0 textsearch-0.0.17\n",
      "Requirement already satisfied: nltk in /usr/local/lib/python3.6/dist-packages (3.2.5)\n",
      "Requirement already satisfied: six in /usr/local/lib/python3.6/dist-packages (from nltk) (1.12.0)\n"
     ]
    }
   ],
   "source": [
    "!pip install contractions\n",
    "!pip install nltk"
   ]
  },
  {
   "cell_type": "code",
   "execution_count": 31,
   "metadata": {
    "colab": {
     "base_uri": "https://localhost:8080/",
     "height": 68
    },
    "colab_type": "code",
    "id": "mqktNNSo28WC",
    "outputId": "f5cbae0b-b425-4cbb-946b-1afed2af8661"
   },
   "outputs": [
    {
     "name": "stdout",
     "output_type": "stream",
     "text": [
      "[nltk_data] Downloading package stopwords to /root/nltk_data...\n",
      "[nltk_data]   Package stopwords is already up-to-date!\n"
     ]
    },
    {
     "data": {
      "text/plain": [
       "True"
      ]
     },
     "execution_count": 31,
     "metadata": {
      "tags": []
     },
     "output_type": "execute_result"
    }
   ],
   "source": [
    "import pandas as pd\n",
    "import numpy as np\n",
    "import re\n",
    "import string\n",
    "import contractions\n",
    "import nltk\n",
    "from nltk.corpus import stopwords\n",
    "from sklearn.model_selection import train_test_split\n",
    "from tensorflow.keras.preprocessing.text import Tokenizer \n",
    "from tensorflow.keras.preprocessing.sequence import pad_sequences\n",
    "from tensorflow.keras.layers import Input,LSTM,Embedding,Dense,Concatenate,TimeDistributed,Bidirectional,Attention,GRU\n",
    "from tensorflow.keras.models import Model\n",
    "from tensorflow.keras.callbacks import EarlyStopping\n",
    "from Attention import AttentionLayer\n",
    "nltk.download('stopwords')"
   ]
  },
  {
   "cell_type": "code",
   "execution_count": null,
   "metadata": {
    "colab": {},
    "colab_type": "code",
    "id": "ofArBBOR28WH"
   },
   "outputs": [],
   "source": [
    "dataset=pd.read_csv(\"./Reviews.csv\",nrows=100000)\n",
    "dataset=dataset.drop([\"Id\",\"ProductId\",\"UserId\",\"ProfileName\",\"HelpfulnessNumerator\",\"HelpfulnessDenominator\",\"Score\",\"Time\"],axis=1)\n",
    "dataset=dataset.dropna(axis=0)"
   ]
  },
  {
   "cell_type": "code",
   "execution_count": 5,
   "metadata": {
    "colab": {
     "base_uri": "https://localhost:8080/",
     "height": 359
    },
    "colab_type": "code",
    "id": "76vIbcgc28WK",
    "outputId": "fe4684c8-da06-4cbf-ba6e-84db06970e94"
   },
   "outputs": [
    {
     "data": {
      "text/html": [
       "<div>\n",
       "<style scoped>\n",
       "    .dataframe tbody tr th:only-of-type {\n",
       "        vertical-align: middle;\n",
       "    }\n",
       "\n",
       "    .dataframe tbody tr th {\n",
       "        vertical-align: top;\n",
       "    }\n",
       "\n",
       "    .dataframe thead th {\n",
       "        text-align: right;\n",
       "    }\n",
       "</style>\n",
       "<table border=\"1\" class=\"dataframe\">\n",
       "  <thead>\n",
       "    <tr style=\"text-align: right;\">\n",
       "      <th></th>\n",
       "      <th>Summary</th>\n",
       "      <th>Text</th>\n",
       "    </tr>\n",
       "  </thead>\n",
       "  <tbody>\n",
       "    <tr>\n",
       "      <th>0</th>\n",
       "      <td>Good Quality Dog Food</td>\n",
       "      <td>I have bought several of the Vitality canned d...</td>\n",
       "    </tr>\n",
       "    <tr>\n",
       "      <th>1</th>\n",
       "      <td>Not as Advertised</td>\n",
       "      <td>Product arrived labeled as Jumbo Salted Peanut...</td>\n",
       "    </tr>\n",
       "    <tr>\n",
       "      <th>2</th>\n",
       "      <td>\"Delight\" says it all</td>\n",
       "      <td>This is a confection that has been around a fe...</td>\n",
       "    </tr>\n",
       "    <tr>\n",
       "      <th>3</th>\n",
       "      <td>Cough Medicine</td>\n",
       "      <td>If you are looking for the secret ingredient i...</td>\n",
       "    </tr>\n",
       "    <tr>\n",
       "      <th>4</th>\n",
       "      <td>Great taffy</td>\n",
       "      <td>Great taffy at a great price.  There was a wid...</td>\n",
       "    </tr>\n",
       "    <tr>\n",
       "      <th>5</th>\n",
       "      <td>Nice Taffy</td>\n",
       "      <td>I got a wild hair for taffy and ordered this f...</td>\n",
       "    </tr>\n",
       "    <tr>\n",
       "      <th>6</th>\n",
       "      <td>Great!  Just as good as the expensive brands!</td>\n",
       "      <td>This saltwater taffy had great flavors and was...</td>\n",
       "    </tr>\n",
       "    <tr>\n",
       "      <th>7</th>\n",
       "      <td>Wonderful, tasty taffy</td>\n",
       "      <td>This taffy is so good.  It is very soft and ch...</td>\n",
       "    </tr>\n",
       "    <tr>\n",
       "      <th>8</th>\n",
       "      <td>Yay Barley</td>\n",
       "      <td>Right now I'm mostly just sprouting this so my...</td>\n",
       "    </tr>\n",
       "    <tr>\n",
       "      <th>9</th>\n",
       "      <td>Healthy Dog Food</td>\n",
       "      <td>This is a very healthy dog food. Good for thei...</td>\n",
       "    </tr>\n",
       "  </tbody>\n",
       "</table>\n",
       "</div>"
      ],
      "text/plain": [
       "                                         Summary                                               Text\n",
       "0                          Good Quality Dog Food  I have bought several of the Vitality canned d...\n",
       "1                              Not as Advertised  Product arrived labeled as Jumbo Salted Peanut...\n",
       "2                          \"Delight\" says it all  This is a confection that has been around a fe...\n",
       "3                                 Cough Medicine  If you are looking for the secret ingredient i...\n",
       "4                                    Great taffy  Great taffy at a great price.  There was a wid...\n",
       "5                                     Nice Taffy  I got a wild hair for taffy and ordered this f...\n",
       "6  Great!  Just as good as the expensive brands!  This saltwater taffy had great flavors and was...\n",
       "7                         Wonderful, tasty taffy  This taffy is so good.  It is very soft and ch...\n",
       "8                                     Yay Barley  Right now I'm mostly just sprouting this so my...\n",
       "9                               Healthy Dog Food  This is a very healthy dog food. Good for thei..."
      ]
     },
     "execution_count": 5,
     "metadata": {
      "tags": []
     },
     "output_type": "execute_result"
    }
   ],
   "source": [
    "dataset.head(10)"
   ]
  },
  {
   "cell_type": "code",
   "execution_count": null,
   "metadata": {
    "colab": {},
    "colab_type": "code",
    "id": "ymzt4p-L28WO"
   },
   "outputs": [],
   "source": [
    "def preprocess_text(dataset):\n",
    "    cleaned_text=[]\n",
    "    for data in dataset:\n",
    "        cleaned_data = data.lower()\n",
    "        #remove htmltags\n",
    "        html_tag = re.compile('<.*?>')\n",
    "        cleaned_data= re.sub(html_tag,' ',cleaned_data)       \n",
    "        cleaned_data=cleaned_data.strip()      \n",
    "        #remove paranthsis data\n",
    "        cleaned_data = re.sub(r'\\([^)]*\\)',' ', cleaned_data)\n",
    "        cleaned_data = re.sub('\"','',cleaned_data)\n",
    "        #expand contractions\n",
    "        cleaned_data=contractions.fix(cleaned_data)\n",
    "        #remove punctuations\n",
    "        cleaned_data = re.sub(r\"'s\\b\",\" \",cleaned_data)\n",
    "        cleaned_data = cleaned_data.translate(str.maketrans(' ', ' ', string.punctuation))\n",
    "        cleaned_text.append(cleaned_data)\n",
    "    return cleaned_text"
   ]
  },
  {
   "cell_type": "code",
   "execution_count": 8,
   "metadata": {
    "colab": {
     "base_uri": "https://localhost:8080/",
     "height": 207
    },
    "colab_type": "code",
    "id": "KWJN6DPE28WT",
    "outputId": "dfb68fb5-c19e-439c-a9a8-c0d750be1636"
   },
   "outputs": [
    {
     "data": {
      "text/plain": [
       "['bought several vitality canned dog food products found good quality product looks like stew processed meat smells better labrador finicky appreciates product better',\n",
       " 'product arrived labeled jumbo salted peanutsthe peanuts actually small sized unsalted sure error vendor intended represent product jumbo',\n",
       " 'confection around centuries light pillowy citrus gelatin nuts case filberts cut tiny squares liberally coated powdered sugar tiny mouthful heaven chewy flavorful highly recommend yummy treat familiar story lewis lion witch wardrobe treat seduces edmund selling brother sisters witch',\n",
       " 'looking secret ingredient robitussin believe found got addition root beer extract ordered made cherry soda flavor medicinal',\n",
       " 'great taffy great price wide assortment yummy taffy delivery quick taffy lover deal',\n",
       " 'got wild hair taffy ordered five pound bag taffy enjoyable many flavors watermelon root beer melon peppermint grape etc complaint bit much redblack licoriceflavored pieces kids husband lasted two weeks would recommend brand taffy delightful treat',\n",
       " 'saltwater taffy great flavors soft chewy candy individually wrapped well none candies stuck together happen expensive version fralinger would highly recommend candy served beachthemed party everyone loved',\n",
       " 'taffy good soft chewy flavors amazing would definitely recommend buying satisfying',\n",
       " 'right mostly sprouting cats eat grass love rotate around wheatgrass rye',\n",
       " 'healthy dog food good digestion also good small puppies dog eats required amount every feeding']"
      ]
     },
     "execution_count": 8,
     "metadata": {
      "tags": []
     },
     "output_type": "execute_result"
    }
   ],
   "source": [
    "cleaned_reviews=[]\n",
    "stop_words = set(stopwords.words('english')) \n",
    "cleaned_text_data=preprocess_text(dataset[\"Text\"])\n",
    "for text in cleaned_text_data:\n",
    "    filtered_sentence = [w for w in text.split() if not w in stop_words] \n",
    "    long_words=[]\n",
    "    for i in filtered_sentence:\n",
    "        if len(i)>=3:   \n",
    "            long_words.append(i)   \n",
    "    cleaned_reviews.append(\" \".join(long_words))\n",
    "cleaned_reviews[:10]\n"
   ]
  },
  {
   "cell_type": "code",
   "execution_count": 9,
   "metadata": {
    "colab": {
     "base_uri": "https://localhost:8080/",
     "height": 187
    },
    "colab_type": "code",
    "id": "HTA5_KY228WV",
    "outputId": "33e2e16a-5c88-43c9-9c74-b68502bceb22"
   },
   "outputs": [
    {
     "data": {
      "text/plain": [
       "['good quality dog food',\n",
       " 'not as advertised',\n",
       " 'delight says it all',\n",
       " 'cough medicine',\n",
       " 'great taffy',\n",
       " 'nice taffy',\n",
       " 'great  just as good as the expensive brands',\n",
       " 'wonderful tasty taffy',\n",
       " 'yay barley',\n",
       " 'healthy dog food']"
      ]
     },
     "execution_count": 9,
     "metadata": {
      "tags": []
     },
     "output_type": "execute_result"
    }
   ],
   "source": [
    "cleaned_Summary_data=preprocess_text(dataset[\"Summary\"])\n",
    "cleaned_Summary_data[:10]"
   ]
  },
  {
   "cell_type": "code",
   "execution_count": null,
   "metadata": {
    "colab": {},
    "colab_type": "code",
    "id": "9MrN8aII28Wd"
   },
   "outputs": [],
   "source": [
    "summary_tag=[]\n",
    "for summary in cleaned_Summary_data:\n",
    "    summary=\"<START> \"+summary+\" <END>\"\n",
    "    summary_tag.append(summary)\n",
    "dataset[\"Text\"]=cleaned_reviews\n",
    "dataset[\"Summary\"]=summary_tag"
   ]
  },
  {
   "cell_type": "code",
   "execution_count": 13,
   "metadata": {
    "colab": {
     "base_uri": "https://localhost:8080/",
     "height": 136
    },
    "colab_type": "code",
    "id": "PvPT01Cs28Wf",
    "outputId": "6744492e-05d7-498a-f6e5-3666b9d4d134"
   },
   "outputs": [
    {
     "name": "stdout",
     "output_type": "stream",
     "text": [
      "<class 'pandas.core.frame.DataFrame'>\n",
      "Int64Index: 99998 entries, 0 to 99999\n",
      "Data columns (total 2 columns):\n",
      "Summary    99998 non-null object\n",
      "Text       99998 non-null object\n",
      "dtypes: object(2)\n",
      "memory usage: 2.3+ MB\n"
     ]
    }
   ],
   "source": [
    "text_maximum_length=100\n",
    "summary_maximum_length=10\n",
    "dataset.info()"
   ]
  },
  {
   "cell_type": "code",
   "execution_count": null,
   "metadata": {
    "colab": {},
    "colab_type": "code",
    "id": "n7OaiIh728Wn"
   },
   "outputs": [],
   "source": [
    "train_text,test_text,train_summary,test_summary=train_test_split(cleaned_reviews,summary_tag,test_size=0.3)"
   ]
  },
  {
   "cell_type": "code",
   "execution_count": null,
   "metadata": {
    "colab": {},
    "colab_type": "code",
    "id": "XHnhgPrm28Wq"
   },
   "outputs": [],
   "source": [
    "review_tokenizer = Tokenizer()\n",
    "review_tokenizer.fit_on_texts(list(train_text))"
   ]
  },
  {
   "cell_type": "code",
   "execution_count": 18,
   "metadata": {
    "colab": {
     "base_uri": "https://localhost:8080/",
     "height": 34
    },
    "colab_type": "code",
    "id": "hyklYSDO28Ws",
    "outputId": "856d211f-72a2-4bf6-93be-a29b79d72661"
   },
   "outputs": [
    {
     "data": {
      "text/plain": [
       "'loved gummy bout green one tasty delicious would buy thanks'"
      ]
     },
     "execution_count": 18,
     "metadata": {
      "tags": []
     },
     "output_type": "execute_result"
    }
   ],
   "source": [
    "train_text[1]"
   ]
  },
  {
   "cell_type": "code",
   "execution_count": 19,
   "metadata": {
    "colab": {
     "base_uri": "https://localhost:8080/",
     "height": 54
    },
    "colab_type": "code",
    "id": "iZ4mivyI28Wv",
    "outputId": "e31edb55-c584-4750-9ac5-f44f1dc194a1"
   },
   "outputs": [
    {
     "data": {
      "text/plain": [
       "'tried hour energy long night year old stay next day hour sleep definitely woke kept awake duration day least body picked back crash afterwards stomach full like energy drinks agree others taste terrible taste great taste would recommend product anyone needs pickmeup keep day going smooth received free sample 5hour energy® fromsmiley360'"
      ]
     },
     "execution_count": 19,
     "metadata": {
      "tags": []
     },
     "output_type": "execute_result"
    }
   ],
   "source": [
    "test_text[1]"
   ]
  },
  {
   "cell_type": "code",
   "execution_count": 20,
   "metadata": {
    "colab": {
     "base_uri": "https://localhost:8080/",
     "height": 34
    },
    "colab_type": "code",
    "id": "y5EA5eCU28Wy",
    "outputId": "ed635131-180f-4b76-e83a-cff8878c6c52"
   },
   "outputs": [
    {
     "name": "stdout",
     "output_type": "stream",
     "text": [
      "_START_ very good _END_\n"
     ]
    }
   ],
   "source": [
    "print(train_summary[1])"
   ]
  },
  {
   "cell_type": "code",
   "execution_count": 21,
   "metadata": {
    "colab": {
     "base_uri": "https://localhost:8080/",
     "height": 34
    },
    "colab_type": "code",
    "id": "cdJcfqqv28W0",
    "outputId": "68645983-e53f-4387-f692-0efc54eefc01"
   },
   "outputs": [
    {
     "data": {
      "text/plain": [
       "'_START_ wakes me up _END_'"
      ]
     },
     "execution_count": 21,
     "metadata": {
      "tags": []
     },
     "output_type": "execute_result"
    }
   ],
   "source": [
    "test_summary[1]"
   ]
  },
  {
   "cell_type": "code",
   "execution_count": null,
   "metadata": {
    "colab": {},
    "colab_type": "code",
    "id": "PdlVj9WY28W6"
   },
   "outputs": [],
   "source": [
    "train_text=review_tokenizer.texts_to_sequences(train_text) \n",
    "train_text=pad_sequences(train_text,maxlen=text_maximum_length,padding='post') \n",
    "test_text=review_tokenizer.texts_to_sequences(test_text)\n",
    "test_text=pad_sequences(test_text,maxlen=text_maximum_length,padding='post')"
   ]
  },
  {
   "cell_type": "code",
   "execution_count": 24,
   "metadata": {
    "colab": {
     "base_uri": "https://localhost:8080/",
     "height": 34
    },
    "colab_type": "code",
    "id": "tvJVmCNq28W-",
    "outputId": "8af5ce15-7ecf-450f-9e28-5e0903f793d6"
   },
   "outputs": [
    {
     "data": {
      "text/plain": [
       "73961"
      ]
     },
     "execution_count": 24,
     "metadata": {
      "tags": []
     },
     "output_type": "execute_result"
    }
   ],
   "source": [
    "review_vocab_size=len(review_tokenizer.word_index) +1\n",
    "review_vocab_size"
   ]
  },
  {
   "cell_type": "code",
   "execution_count": 25,
   "metadata": {
    "colab": {
     "base_uri": "https://localhost:8080/",
     "height": 34
    },
    "colab_type": "code",
    "id": "r1HjyUcd28XB",
    "outputId": "7dd46db3-7c56-4f90-c206-ad6948baeaae"
   },
   "outputs": [
    {
     "data": {
      "text/plain": [
       "16482"
      ]
     },
     "execution_count": 25,
     "metadata": {
      "tags": []
     },
     "output_type": "execute_result"
    }
   ],
   "source": [
    "summary_tokenizer = Tokenizer()\n",
    "summary_tokenizer.fit_on_texts(list(train_summary))\n",
    "train_summary=summary_tokenizer.texts_to_sequences(train_summary) \n",
    "train_summary=pad_sequences(train_summary,maxlen=summary_maximum_length,padding='post')\n",
    "test_summary=summary_tokenizer.texts_to_sequences(test_summary)\n",
    "test_summary=pad_sequences(test_summary,maxlen=summary_maximum_length,padding='post')\n",
    "summary_vocab_size=len(summary_tokenizer.word_index) +1\n",
    "latent_dim=500\n",
    "summary_vocab_size"
   ]
  },
  {
   "cell_type": "code",
   "execution_count": 35,
   "metadata": {
    "colab": {
     "base_uri": "https://localhost:8080/",
     "height": 578
    },
    "colab_type": "code",
    "id": "ZD2vFwI628XD",
    "outputId": "fe8b1e07-6fe1-44f4-9bb0-1312a0c99f0d"
   },
   "outputs": [
    {
     "name": "stdout",
     "output_type": "stream",
     "text": [
      "Model: \"model\"\n",
      "__________________________________________________________________________________________________\n",
      "Layer (type)                    Output Shape         Param #     Connected to                     \n",
      "==================================================================================================\n",
      "input_11 (InputLayer)           [(None, 100)]        0                                            \n",
      "__________________________________________________________________________________________________\n",
      "embedding_10 (Embedding)        (None, 100, 500)     36980500    input_11[0][0]                   \n",
      "__________________________________________________________________________________________________\n",
      "gru_5 (GRU)                     [(None, 100, 500), ( 1501500     embedding_10[0][0]               \n",
      "__________________________________________________________________________________________________\n",
      "input_12 (InputLayer)           [(None, None)]       0                                            \n",
      "__________________________________________________________________________________________________\n",
      "gru_6 (GRU)                     [(None, 100, 500), ( 1501500     gru_5[0][0]                      \n",
      "__________________________________________________________________________________________________\n",
      "embedding_11 (Embedding)        (None, None, 500)    8241000     input_12[0][0]                   \n",
      "__________________________________________________________________________________________________\n",
      "gru_7 (GRU)                     [(None, 100, 500), ( 1501500     gru_6[0][0]                      \n",
      "__________________________________________________________________________________________________\n",
      "gru_8 (GRU)                     [(None, None, 500),  1501500     embedding_11[0][0]               \n",
      "                                                                 gru_7[0][1]                      \n",
      "__________________________________________________________________________________________________\n",
      "attention_layer (AttentionLayer ((None, None, 500),  500500      gru_7[0][0]                      \n",
      "                                                                 gru_8[0][0]                      \n",
      "__________________________________________________________________________________________________\n",
      "concat_layer (Concatenate)      (None, None, 1000)   0           gru_8[0][0]                      \n",
      "                                                                 attention_layer[0][0]            \n",
      "__________________________________________________________________________________________________\n",
      "time_distributed (TimeDistribut (None, None, 16482)  16498482    concat_layer[0][0]               \n",
      "==================================================================================================\n",
      "Total params: 68,226,482\n",
      "Trainable params: 68,226,482\n",
      "Non-trainable params: 0\n",
      "__________________________________________________________________________________________________\n"
     ]
    }
   ],
   "source": [
    "review_inputs=Input(shape=(text_maximum_length,)) \n",
    "input_embedding=Embedding(review_vocab_size,latent_dim,trainable=True)(review_inputs) \n",
    "gru1=GRU(latent_dim,return_sequences=True,return_state=True)\n",
    "enc_out1,h1=gru1(input_embedding)\n",
    "gru2=GRU(latent_dim,return_sequences=True,return_state=True)\n",
    "enc_out2,h2=gru2(enc_out1)\n",
    "gru3=GRU(latent_dim,return_sequences=True,return_state=True)\n",
    "enc_out3,h3=gru33(enc_out2)\n",
    "\n",
    "dec_input=Input(shape=(None,))\n",
    "dec_embedding_lyr=Embedding(summary_vocab_size, latent_dim,trainable=True)\n",
    "dec_embedding=dec_embedding_lyr(dec_input)\n",
    "dec_gru1=GRU(latent_dim,return_sequences=True,return_state=True)\n",
    "dec_out,_=dec_gru1(dec_embedding,initial_state=[h3]) \n",
    "attention_layer=AttentionLayer()\n",
    "attn_out,_= attention_layer([enc_out3, dec_out])\n",
    "\n",
    "decoder_concat_input=Concatenate()([dec_out,attn_out])\n",
    "dense=TimeDistributed(Dense(summary_vocab_size, activation='softmax'))\n",
    "dec_output=dense(decoder_concat_input) \n",
    "model=Model([review_inputs,dec_input],dec_output) \n",
    "model.summary()"
   ]
  },
  {
   "cell_type": "code",
   "execution_count": null,
   "metadata": {
    "colab": {},
    "colab_type": "code",
    "id": "yrd7GARI28XF"
   },
   "outputs": [],
   "source": [
    "model.compile(optimizer='Adam', loss='sparse_categorical_crossentropy')\n",
    "es = EarlyStopping(monitor='val_loss', mode='min', verbose=1)"
   ]
  },
  {
   "cell_type": "code",
   "execution_count": 49,
   "metadata": {
    "colab": {
     "base_uri": "https://localhost:8080/",
     "height": 255
    },
    "colab_type": "code",
    "id": "XZHNAbJI28XI",
    "outputId": "184b79d7-044d-440d-a180-75af89eccdfb"
   },
   "outputs": [
    {
     "name": "stdout",
     "output_type": "stream",
     "text": [
      "Train on 89998 samples, validate on 10000 samples\n",
      "Epoch 1/50\n",
      "89998/89998 [==============================] - 397s 4ms/sample - loss: 2.3912 - val_loss: 2.2932\n",
      "Epoch 2/50\n",
      "89998/89998 [==============================] - 398s 4ms/sample - loss: 2.2161 - val_loss: 2.2113\n",
      "Epoch 3/50\n",
      "89998/89998 [==============================] - 397s 4ms/sample - loss: 2.0691 - val_loss: 2.1588\n",
      "Epoch 4/50\n",
      "89998/89998 [==============================] - 395s 4ms/sample - loss: 1.9232 - val_loss: 2.1292\n",
      "Epoch 5/50\n",
      "89998/89998 [==============================] - 395s 4ms/sample - loss: 1.7754 - val_loss: 2.1141\n",
      "Epoch 6/50\n",
      "89998/89998 [==============================] - 397s 4ms/sample - loss: 1.6283 - val_loss: 2.1180\n",
      "Epoch 00006: early stopping\n"
     ]
    }
   ],
   "source": [
    "history=model.fit([train_text,train_summary[:,:-1]], train_summary.reshape(train_summary.shape[0],train_summary.shape[1], 1)[:,1:] ,epochs=50,callbacks=[es],batch_size=128, validation_data=([test_text,test_summary[:,:-1]], test_summary.reshape(test_summary.shape[0],test_summary.shape[1], 1)[:,1:]))"
   ]
  },
  {
   "cell_type": "code",
   "execution_count": 50,
   "metadata": {
    "colab": {
     "base_uri": "https://localhost:8080/",
     "height": 265
    },
    "colab_type": "code",
    "id": "l3UzP7B928XK",
    "outputId": "448c9a4f-3dba-45ed-ec65-1b382f58cc63"
   },
   "outputs": [
    {
     "data": {
      "image/png": "[encoded data removed]",
      "text/plain": [
       "<Figure size 432x288 with 1 Axes>"
      ]
     },
     "metadata": {
      "tags": []
     },
     "output_type": "display_data"
    }
   ],
   "source": [
    "from matplotlib import pyplot \n",
    "pyplot.plot(history.history['loss'], label='train') \n",
    "pyplot.plot(history.history['val_loss'], label='test') \n",
    "pyplot.legend() \n",
    "pyplot.show()"
   ]
  },
  {
   "cell_type": "code",
   "execution_count": null,
   "metadata": {
    "colab": {},
    "colab_type": "code",
    "id": "FnqX9ltU28XN"
   },
   "outputs": [],
   "source": [
    "model.save(\"model_GRU.h5\")"
   ]
  },
  {
   "cell_type": "code",
   "execution_count": null,
   "metadata": {
    "colab": {},
    "colab_type": "code",
    "id": "dkywcyP428XV"
   },
   "outputs": [],
   "source": [
    "encoder_model = Model(inputs=review_inputs,outputs=[enc_out3, h3])\n",
    "\n",
    "dec_in_h = Input(shape=(latent_dim,))\n",
    "dec_in_c = Input(shape=(latent_dim,))\n",
    "dec_hidden_in = Input(shape=(text_maximum_length,latent_dim))\n",
    "\n",
    "dec_emb2= dec_embedding_lyr(dec_input)\n",
    "\n",
    "dec_out2,h= dec_lstm1(dec_emb2, initial_state=[dec_in_h])\n",
    "\n",
    "attn_out_inf,_ = attention_layer([dec_hidden_in, dec_out2])\n",
    "\n",
    "decoder_inf_concat = Concatenate()([dec_outp2, attn_out_inf])\n",
    "decoder_outputs2 = dense(decoder_inf_concat)\n",
    "decoder_model = Model([dec_input] + [dechidden_input,dec_in_h],[dec_out2] + [h])"
   ]
  },
  {
   "cell_type": "code",
   "execution_count": null,
   "metadata": {
    "colab": {},
    "colab_type": "code",
    "id": "P-kugWe228XP"
   },
   "outputs": [],
   "source": [
    "reverse_target_word=summary_tokenizer.index_word \n",
    "reverse_source_word=review_tokenizer.index_word \n",
    "target_word=summary_tokenizer.word_index\n",
    "source_word=review_tokenizer.word_index"
   ]
  },
  {
   "cell_type": "code",
   "execution_count": null,
   "metadata": {
    "colab": {},
    "colab_type": "code",
    "id": "Z5opsncy28XX"
   },
   "outputs": [],
   "source": [
    "ground_truth_review=[]\n",
    "ground_truth_summery=[]\n",
    "predicted_summary=[]\n",
    "for n in range(len(test_text)):\n",
    "    givenReview=''\n",
    "    for review_token in test_text[n]:\n",
    "        if(review_token!=target_word['start'] and review_token!=target_word['end']):\n",
    "            givenReview=givenReview+reverse_source_word[review_token]+' '\n",
    "    ground_truth_review.append(givenReview)\n",
    "    givenSummary=''\n",
    "    for summary_token in test_summary[n]:\n",
    "        if(summary_token!=target_word['start'] and summary_token!=target_word['end']):\n",
    "            givenSummary=givenSummary+reverse_target_word[summary_token]+' '\n",
    "    ground_truth_summery.append(givenSummary)        \n",
    "    e_out, e_h= encoder_model.predict(test_text[n].reshape(1,100))\n",
    "    target_seq = np.zeros((1,1))\n",
    "    target_seq[0][0] = target_word_index['start']\n",
    "    decoded_sentence = ''\n",
    "    while True:\n",
    "        output_tokens, h = decoder_model.predict([target_seq] + [e_out, e_h])\n",
    "        sampled_token_index = np.argmax(output_tokens[0, -1, :])\n",
    "        sampled_token = reverse_target_word_index[sampled_token_index]\n",
    "        if(sampled_token!='end'):\n",
    "            decoded_sentence += ' '+sampled_token\n",
    "        if (sampled_token == 'end' or len(decoded_sentence.split()) >= (summary_maximum_length-1)):\n",
    "            break\n",
    "        target_seq = np.zeros((1,1))\n",
    "        target_seq[0, 0] = sampled_token_index\n",
    "        e_h = h\n",
    "    predicted_summary.append(decoded_sentence)"
   ]
  },
  {
   "cell_type": "code",
   "execution_count": 59,
   "metadata": {
    "colab": {
     "base_uri": "https://localhost:8080/",
     "height": 1000
    },
    "colab_type": "code",
    "id": "mM5O1Ym828Xa",
    "outputId": "22156714-afde-4a94-b159-32fc452bb3d9"
   },
   "outputs": [
    {
     "name": "stdout",
     "output_type": "stream",
     "text": [
      "\n",
      "\n",
      "Review: rarely eat anything whole wheat pasta every eat treat almost pastas ate italy make sure cook \n",
      "Actual Summary: reminds me of italy \n",
      "Predicted Summary: great gluten free pasta\n",
      "\n",
      "\n",
      "Review: tried hour energy long night year old stay next day hour sleep definitely woke kept awake duration day least body picked back crash afterwards stomach full energy drinks agree others taste terrible taste great taste would recommend product anyone needs pickmeup keep day going smooth received free sample 5hour energy® \n",
      "Actual Summary: wakes me up \n",
      "Predicted Summary: energy boost\n",
      "\n",
      "\n",
      "Review: tried several one right amount sea salt added distract chocolate adds flavor favorite many strong favorites dark chocolate bars one seems one get combination right \n",
      "Actual Summary: best almonds and sea salt chocolate bar \n",
      "Predicted Summary: great snack\n",
      "\n",
      "\n",
      "Review: greenies muched loved tatsy treat two small dogs chews last long time \n",
      "Actual Summary: excellent teeth cleaner \n",
      "Predicted Summary: greenies are the best\n",
      "\n",
      "\n",
      "Review: love noodles really great midnight snack really something fill dinner eat dinner hungry later maybe people would stick ribs love though amazon really price \n",
      "Actual Summary: great and good price \n",
      "Predicted Summary: great product\n",
      "\n",
      "\n",
      "Review: enjoyable times day right amount salt flavor becoming favorite house also take work satisfy afternoon craving \n",
      "Actual Summary: all day long \n",
      "Predicted Summary: popchips\n",
      "\n",
      "\n",
      "Review: several brands beef sticks picky eater surprised pretty big discrepancy product reviewed tasted tasted beef heart beef skin provided resistance mushy inside maybe batch higher proportion normal got hot flavor mask weirdness taste reason two stars instead one brought camping little short food short sticks provided sustenance even little bit taste diarrhea stomach problems unlike people receive samples buffalo bills input regards stuff tastes \n",
      "Actual Summary: mostly tastes of beef heart \n",
      "Predicted Summary: tastes like plastic\n",
      "\n",
      "\n",
      "Review: recommend instead price swiss miss hot cocoa mix milk chocolate 16count envelopes thing falls short found adding milk nondairy creamers cup make taste somewhat creamy less tastes horrible otherwise hated decided make cup hot milk decided pour hot cup milk tastes much better opinion need powdered milk nondairy creamer would improve product greatly thieves nonetheless usually get envelopes hot cocoa tastes better supermarket less five bucks buy two less ten still spending less spent really thought buying quality definitely unless use milk cheating spending extra money drank common hot cocoa supermarket straight water tasted way better avoid \n",
      "Actual Summary: it is ok but certainly not worth the cost \n",
      "Predicted Summary: terrible hot chocolate\n",
      "\n",
      "\n",
      "Review: find side dish grocery stores anymore beef noodles lipton best pasta side \n",
      "Actual Summary: thanks for the availability \n",
      "Predicted Summary: great gluten free pasta\n",
      "\n",
      "\n",
      "Review: add beans simmer hours add seasoning pack minutes done flavor spicy bland either taste salty sodiumrestricted diet note sodium count pretty high however would call hearty ounces beans add cups water getting pretty thin soup easily dress bit use soup base add things rice pasta diced potatoes diced ham shredded chicken greens fresh frozen vegetables course toss whatever hanging around fridge pantry dash two hot sauce often hits spot well making water stock also helps put bit hearty pot use starter dress well worth getting especially get one sharply discounted sale prices tastes way watery considered hearty soup \n",
      "Actual Summary: to put in some work to make it hearty \n",
      "Predicted Summary: these are the best chili ever\n",
      "\n",
      "\n",
      "Review: one great bbq flavor moist chewy way definite renewal purchase future \n",
      "Actual Summary: moist and chewy \n",
      "Predicted Summary: great nuts\n",
      "\n",
      "\n",
      "Review: product great really works lost total pounds two months wihout exercising reconmend product everyone \n",
      "Actual Summary: this product is great \n",
      "Predicted Summary: this product is great\n",
      "\n",
      "\n",
      "Review: melitta java pods slightly smaller circumference senseo pods thicker using senseo coffee machine probably moisten java pod smooth attempting latch lid otherwise risk breaking latching mechanism resulting decaf coffee bad seems reviewer richer taste senseo decaf pods melitta java pods really designed senseo machine several brands halo fratello millstone work better senseo machine \n",
      "Actual Summary: tight fit \n",
      "Predicted Summary: not worth the money\n",
      "\n",
      "\n",
      "Review: tea whenever pull bag foil envelope inhale scent bergamot oil triple bergamot bring \n",
      "Actual Summary: triple bergamot \n",
      "Predicted Summary: best tea ever\n",
      "\n",
      "\n",
      "Review: pretty tasty extremely salty cheesy salt concentrate certainly keeps eating many probably first choice grab snack said convenient form factor great case emergency hunger pains make sure something drink handy \n",
      "Actual Summary: salty \n",
      "Predicted Summary: tasty low cal snack\n"
     ]
    }
   ],
   "source": [
    "for i in range(15):\n",
    "    print(\"\\n\")\n",
    "    print(\"Review: {}\".format(ground_truth_review[i]))\n",
    "    print(\"Actual Summary: {}\".format(ground_truth_summery[i]))\n",
    "    print(\"Predicted Summary:{}\".format(predicted_summary[i]))\n",
    "    "
   ]
  },
  {
   "cell_type": "code",
   "execution_count": 60,
   "metadata": {
    "colab": {
     "base_uri": "https://localhost:8080/",
     "height": 102
    },
    "colab_type": "code",
    "id": "c45vNgFG28Xd",
    "outputId": "08c972f2-f2be-4de7-c849-1f6ecd21d6aa"
   },
   "outputs": [
    {
     "name": "stderr",
     "output_type": "stream",
     "text": [
      "/usr/local/lib/python3.6/dist-packages/nltk/translate/bleu_score.py:490: UserWarning: \n",
      "Corpus/Sentence contains 0 counts of 2-gram overlaps.\n",
      "BLEU scores might be undesirable; use SmoothingFunction().\n",
      "  warnings.warn(_msg)\n"
     ]
    },
    {
     "data": {
      "text/plain": [
       "0.012827937696632154"
      ]
     },
     "execution_count": 60,
     "metadata": {
      "tags": []
     },
     "output_type": "execute_result"
    }
   ],
   "source": [
    "from nltk.translate.bleu_score import sentence_bleu\n",
    "from statistics import mean \n",
    "score=[]\n",
    "for i in range(100):\n",
    "    reference=list(ground_truth_summery[i].split())\n",
    "    candidate=list(predicted_summary[i].split())\n",
    "    score.append(sentence_bleu(reference,candidate,weights=(1,0,0,0)))\n",
    "\n",
    "mean(score)"
   ]
  },
  {
   "cell_type": "code",
   "execution_count": null,
   "metadata": {
    "colab": {},
    "colab_type": "code",
    "id": "vWt4qs7428Xg",
    "outputId": "89c81ff9-b331-4c81-c99d-e6e45117a88d",
    "scrolled": true
   },
   "outputs": [
    {
     "name": "stdout",
     "output_type": "stream",
     "text": [
      "{'ROUGE-1': 0.0, 'ROUGE-SU4': 0.0}\n",
      "{'ROUGE-1': 0.0, 'ROUGE-SU4': 0.0}\n",
      "{'ROUGE-1': 0.0, 'ROUGE-SU4': 0.0}\n",
      "{'ROUGE-1': 0.0, 'ROUGE-SU4': 0.0}\n",
      "{'ROUGE-1': 0.0, 'ROUGE-SU4': 0.0}\n",
      "{'ROUGE-1': 0.0, 'ROUGE-SU4': 0.0}\n",
      "{'ROUGE-1': 0.0, 'ROUGE-SU4': 0.0}\n",
      "{'ROUGE-1': 0.0, 'ROUGE-SU4': 0.0}\n",
      "{'ROUGE-1': 0.0, 'ROUGE-SU4': 0.0}\n",
      "{'ROUGE-1': 0.0, 'ROUGE-SU4': 0.0}\n",
      "{'ROUGE-1': 0.0, 'ROUGE-SU4': 0.0}\n",
      "{'ROUGE-1': 0.0, 'ROUGE-SU4': 0.0}\n",
      "{'ROUGE-1': 0.0, 'ROUGE-SU4': 0.0}\n",
      "{'ROUGE-1': 0.0, 'ROUGE-SU4': 0.0}\n",
      "{'ROUGE-1': 0.0, 'ROUGE-SU4': 0.0}\n",
      "{'ROUGE-1': 0.0, 'ROUGE-SU4': 0.0}\n",
      "{'ROUGE-1': 0.0, 'ROUGE-SU4': 0.0}\n",
      "{'ROUGE-1': 0.0, 'ROUGE-SU4': 0.0}\n",
      "{'ROUGE-1': 0.0, 'ROUGE-SU4': 0.0}\n",
      "{'ROUGE-1': 0.0, 'ROUGE-SU4': 0.0}\n",
      "{'ROUGE-1': 0.0, 'ROUGE-SU4': 0.0}\n",
      "{'ROUGE-1': 0.0, 'ROUGE-SU4': 0.0}\n",
      "{'ROUGE-1': 0.0, 'ROUGE-SU4': 0.0}\n",
      "{'ROUGE-1': 0.0, 'ROUGE-SU4': 0.0}\n",
      "{'ROUGE-1': 0.0, 'ROUGE-SU4': 0.0}\n",
      "{'ROUGE-1': 0.0, 'ROUGE-SU4': 0.0}\n",
      "{'ROUGE-1': 0.0, 'ROUGE-SU4': 0.0}\n",
      "{'ROUGE-1': 0.0, 'ROUGE-SU4': 0.0}\n",
      "{'ROUGE-1': 0.0, 'ROUGE-SU4': 0.0}\n",
      "{'ROUGE-1': 0.0, 'ROUGE-SU4': 0.0}\n",
      "{'ROUGE-1': 0.0, 'ROUGE-SU4': 0.0}\n",
      "{'ROUGE-1': 0.0, 'ROUGE-SU4': 0.0}\n",
      "{'ROUGE-1': 0.0, 'ROUGE-SU4': 0.0}\n",
      "{'ROUGE-1': 0.0, 'ROUGE-SU4': 0.0}\n",
      "{'ROUGE-1': 0.0, 'ROUGE-SU4': 0.0}\n",
      "{'ROUGE-1': 0.0, 'ROUGE-SU4': 0.0}\n",
      "{'ROUGE-1': 0.0, 'ROUGE-SU4': 0.0}\n",
      "{'ROUGE-1': 0.0, 'ROUGE-SU4': 0.0}\n",
      "{'ROUGE-1': 0.0, 'ROUGE-SU4': 0.0}\n",
      "{'ROUGE-1': 0.0, 'ROUGE-SU4': 0.0}\n",
      "{'ROUGE-1': 0.0, 'ROUGE-SU4': 0.0}\n",
      "{'ROUGE-1': 0.0, 'ROUGE-SU4': 0.0}\n",
      "{'ROUGE-1': 0.0, 'ROUGE-SU4': 0.0}\n",
      "{'ROUGE-1': 0.0, 'ROUGE-SU4': 0.0}\n",
      "{'ROUGE-1': 0.0, 'ROUGE-SU4': 0.0}\n",
      "{'ROUGE-1': 0.0, 'ROUGE-SU4': 0.0}\n",
      "{'ROUGE-1': 0.0, 'ROUGE-SU4': 0.0}\n",
      "{'ROUGE-1': 0.0, 'ROUGE-SU4': 0.0}\n",
      "{'ROUGE-1': 0.0, 'ROUGE-SU4': 0.0}\n",
      "{'ROUGE-1': 0.0, 'ROUGE-SU4': 0.0}\n",
      "{'ROUGE-1': 0.0, 'ROUGE-SU4': 0.0}\n",
      "{'ROUGE-1': 0.0, 'ROUGE-SU4': 0.0}\n",
      "{'ROUGE-1': 0.0, 'ROUGE-SU4': 0.0}\n",
      "{'ROUGE-1': 0.0, 'ROUGE-SU4': 0.0}\n",
      "{'ROUGE-1': 0.0, 'ROUGE-SU4': 0.0}\n",
      "{'ROUGE-1': 0.0, 'ROUGE-SU4': 0.0}\n",
      "{'ROUGE-1': 0.0, 'ROUGE-SU4': 0.0}\n",
      "{'ROUGE-1': 0.0, 'ROUGE-SU4': 0.0}\n",
      "{'ROUGE-1': 0.0, 'ROUGE-SU4': 0.0}\n",
      "{'ROUGE-1': 0.0, 'ROUGE-SU4': 0.0}\n",
      "{'ROUGE-1': 0.0, 'ROUGE-SU4': 0.0}\n",
      "{'ROUGE-1': 0.0, 'ROUGE-SU4': 0.0}\n",
      "{'ROUGE-1': 0.0, 'ROUGE-SU4': 0.0}\n",
      "{'ROUGE-1': 0.0, 'ROUGE-SU4': 0.0}\n",
      "{'ROUGE-1': 0.0, 'ROUGE-SU4': 0.0}\n",
      "{'ROUGE-1': 0.0, 'ROUGE-SU4': 0.0}\n",
      "{'ROUGE-1': 0.0, 'ROUGE-SU4': 0.0}\n",
      "{'ROUGE-1': 0.0, 'ROUGE-SU4': 0.0}\n",
      "{'ROUGE-1': 0.0, 'ROUGE-SU4': 0.0}\n",
      "{'ROUGE-1': 0.0, 'ROUGE-SU4': 0.0}\n",
      "{'ROUGE-1': 0.0, 'ROUGE-SU4': 0.0}\n",
      "{'ROUGE-1': 0.0, 'ROUGE-SU4': 0.0}\n",
      "{'ROUGE-1': 0.0, 'ROUGE-SU4': 0.0}\n",
      "{'ROUGE-1': 0.0, 'ROUGE-SU4': 0.0}\n",
      "{'ROUGE-1': 0.0, 'ROUGE-SU4': 0.0}\n",
      "{'ROUGE-1': 0.0, 'ROUGE-SU4': 0.0}\n",
      "{'ROUGE-1': 0.0, 'ROUGE-SU4': 0.0}\n",
      "{'ROUGE-1': 0.0, 'ROUGE-SU4': 0.0}\n",
      "{'ROUGE-1': 0.0, 'ROUGE-SU4': 0.0}\n",
      "{'ROUGE-1': 0.0, 'ROUGE-SU4': 0.0}\n",
      "{'ROUGE-1': 0.0, 'ROUGE-SU4': 0.0}\n",
      "{'ROUGE-1': 0.0, 'ROUGE-SU4': 0.0}\n",
      "{'ROUGE-1': 0.0, 'ROUGE-SU4': 0.0}\n",
      "{'ROUGE-1': 0.0, 'ROUGE-SU4': 0.0}\n",
      "{'ROUGE-1': 0.0, 'ROUGE-SU4': 0.0}\n",
      "{'ROUGE-1': 0.0, 'ROUGE-SU4': 0.0}\n",
      "{'ROUGE-1': 0.0, 'ROUGE-SU4': 0.0}\n",
      "{'ROUGE-1': 0.0, 'ROUGE-SU4': 0.0}\n",
      "{'ROUGE-1': 0.0, 'ROUGE-SU4': 0.0}\n",
      "{'ROUGE-1': 0.0, 'ROUGE-SU4': 0.0}\n",
      "{'ROUGE-1': 0.0, 'ROUGE-SU4': 0.0}\n",
      "{'ROUGE-1': 0.0, 'ROUGE-SU4': 0.0}\n",
      "{'ROUGE-1': 0.0, 'ROUGE-SU4': 0.0}\n",
      "{'ROUGE-1': 0.0, 'ROUGE-SU4': 0.0}\n",
      "{'ROUGE-1': 0.0, 'ROUGE-SU4': 0.0}\n",
      "{'ROUGE-1': 0.0, 'ROUGE-SU4': 0.0}\n",
      "{'ROUGE-1': 0.0, 'ROUGE-SU4': 0.0}\n",
      "{'ROUGE-1': 0.0, 'ROUGE-SU4': 0.0}\n",
      "{'ROUGE-1': 0.0, 'ROUGE-SU4': 0.0}\n",
      "{'ROUGE-1': 0.0, 'ROUGE-SU4': 0.0}\n"
     ]
    }
   ],
   "source": [
    "from pythonrouge.pythonrouge import Pythonrouge\n",
    "for i in range(100):\n",
    "    reference=ground_truth_summery[i]\n",
    "    candidate=predicted_summary[i]\n",
    "    rouge = Pythonrouge(summary_file_exist=False,\n",
    "                    summary=candidate, reference=reference,\n",
    "                    n_gram=1, ROUGE_SU4=True, ROUGE_L=False,\n",
    "                    recall_only=True, stemming=True, stopwords=True,\n",
    "                    word_level=True, length_limit=True, length=50,\n",
    "                    use_cf=False, cf=95, scoring_formula='average',\n",
    "                    resampling=True, samples=1000, favor=True, p=0.5)\n",
    "    score = rouge.calc_score()\n",
    "    print(score)"
   ]
  },
  {
   "cell_type": "code",
   "execution_count": null,
   "metadata": {
    "colab": {},
    "colab_type": "code",
    "id": "kzAmwZ1J28Xi"
   },
   "outputs": [],
   "source": []
  }
 ],
 "metadata": {
  "accelerator": "GPU",
  "colab": {
   "name": "GRU.ipynb",
   "provenance": []
  },
  "kernelspec": {
   "display_name": "Python 3",
   "language": "python",
   "name": "python3"
  },
  "language_info": {
   "codemirror_mode": {
    "name": "ipython",
    "version": 3
   },
   "file_extension": ".py",
   "mimetype": "text/x-python",
   "name": "python",
   "nbconvert_exporter": "python",
   "pygments_lexer": "ipython3",
   "version": "3.7.3"
  }
 },
 "nbformat": 4,
 "nbformat_minor": 4
}
